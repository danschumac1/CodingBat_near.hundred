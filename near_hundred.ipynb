{
 "cells": [
  {
   "cell_type": "markdown",
   "id": "682b3dce",
   "metadata": {},
   "source": [
    "# Warmup-1 > near_hundred"
   ]
  },
  {
   "cell_type": "markdown",
   "id": "4e6a4310",
   "metadata": {},
   "source": [
    "Given an int n, return True if it is within 10 of 100 or 200. Note: abs(num) computes the absolute value of a number.\n",
    "\n",
    "\n",
    "near_hundred(93) → True\n",
    "near_hundred(90) → True\n",
    "near_hundred(89) → False"
   ]
  },
  {
   "cell_type": "code",
   "execution_count": 2,
   "id": "a596f7d6",
   "metadata": {},
   "outputs": [],
   "source": [
    "def near_hundred(n):\n",
    "  #check within 10 of 100\n",
    "  if abs(n-100)<=10:\n",
    "    return True\n",
    "  \n",
    "  #check if within 10 of 200\n",
    "  if abs(n-200)<=10:\n",
    "    return True\n",
    "    \n",
    "  else:\n",
    "    return False"
   ]
  }
 ],
 "metadata": {
  "kernelspec": {
   "display_name": "Python 3 (ipykernel)",
   "language": "python",
   "name": "python3"
  },
  "language_info": {
   "codemirror_mode": {
    "name": "ipython",
    "version": 3
   },
   "file_extension": ".py",
   "mimetype": "text/x-python",
   "name": "python",
   "nbconvert_exporter": "python",
   "pygments_lexer": "ipython3",
   "version": "3.9.12"
  }
 },
 "nbformat": 4,
 "nbformat_minor": 5
}
